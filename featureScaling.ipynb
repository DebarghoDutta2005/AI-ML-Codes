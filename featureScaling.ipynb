{
 "cells": [
  {
   "cell_type": "code",
   "execution_count": 8,
   "id": "a8d04183",
   "metadata": {},
   "outputs": [
    {
     "ename": "TypeError",
     "evalue": "TransformerMixin.fit_transform() missing 1 required positional argument: 'X'",
     "output_type": "error",
     "traceback": [
      "\u001b[31m---------------------------------------------------------------------------\u001b[39m",
      "\u001b[31mTypeError\u001b[39m                                 Traceback (most recent call last)",
      "\u001b[36mCell\u001b[39m\u001b[36m \u001b[39m\u001b[32mIn[8]\u001b[39m\u001b[32m, line 4\u001b[39m\n\u001b[32m      1\u001b[39m \u001b[38;5;28;01mfrom\u001b[39;00m\u001b[38;5;250m \u001b[39m\u001b[34;01msklearn\u001b[39;00m\u001b[34;01m.\u001b[39;00m\u001b[34;01mpreprocessing\u001b[39;00m\u001b[38;5;250m \u001b[39m\u001b[38;5;28;01mimport\u001b[39;00m StandardScaler, MinMaxScaler\n\u001b[32m      3\u001b[39m scaler = StandardScaler()\n\u001b[32m----> \u001b[39m\u001b[32m4\u001b[39m x_scaled = \u001b[43mscaler\u001b[49m\u001b[43m.\u001b[49m\u001b[43mfit_transform\u001b[49m\u001b[43m(\u001b[49m\u001b[43m)\u001b[49m\n\u001b[32m      6\u001b[39m scaler = MinMaxScaler()\n\u001b[32m      7\u001b[39m x_scaled = scaler.fit_transform()\n",
      "\u001b[31mTypeError\u001b[39m: TransformerMixin.fit_transform() missing 1 required positional argument: 'X'"
     ]
    }
   ],
   "source": [
    "from sklearn.preprocessing import StandardScaler, MinMaxScaler\n",
    "\n",
    "scaler = StandardScaler()\n",
    "x_scaled = scaler.fit_transform()\n",
    "\n",
    "scaler = MinMaxScaler()\n",
    "x_scaled = scaler.fit_transform()"
   ]
  },
  {
   "cell_type": "code",
   "execution_count": 15,
   "id": "a80cd1d2",
   "metadata": {},
   "outputs": [
    {
     "name": "stdout",
     "output_type": "stream",
     "text": [
      "Standard Scaled Data:\n",
      "   StudyHours    Scores\n",
      "0   -0.959812 -0.973655\n",
      "1    0.251601  0.358715\n",
      "2   -0.633663 -0.666185\n",
      "3    1.835758  1.793575\n",
      "4   -0.493884 -0.512450\n",
      "\n",
      "Min-Max Scaled Data:\n",
      "   StudyHours    Scores\n",
      "0    0.000000  0.000000\n",
      "1    0.433333  0.481481\n",
      "2    0.116667  0.111111\n",
      "3    1.000000  1.000000\n",
      "4    0.166667  0.166667\n",
      "\n",
      "Training Data:\n",
      "   StudyHours\n",
      "4         3.5\n",
      "2         3.2\n",
      "0         2.5\n",
      "3         8.5\n",
      "Test Data:\n",
      "   StudyHours\n",
      "1         5.1\n",
      "\n",
      "Training Data:\n",
      "   Scores\n",
      "4      30\n",
      "2      27\n",
      "0      21\n",
      "3      75\n",
      "Test Data:\n",
      "   Scores\n",
      "1      47\n"
     ]
    }
   ],
   "source": [
    "import pandas as pd\n",
    "from sklearn.preprocessing import StandardScaler, MinMaxScaler\n",
    "from sklearn.model_selection import train_test_split  # for splitting the data and testing\n",
    "\n",
    "data = {\n",
    "    'StudyHours': [2.5, 5.1, 3.2, 8.5, 3.5],\n",
    "    'Scores': [21, 47, 27, 75, 30]\n",
    "}\n",
    "\n",
    "df = pd.DataFrame(data)\n",
    "\n",
    "standard_scaler = StandardScaler() # StandardScaler = (x - mean) / std deviation\n",
    "standard_scalerd = standard_scaler.fit_transform(df) # find mean and std deviation and transform the data\n",
    "\n",
    "print(\"Standard Scaled Data:\")\n",
    "print(pd.DataFrame(standard_scalerd, columns=['StudyHours', 'Scores']))\n",
    "\n",
    "\n",
    "min_max_scaler = MinMaxScaler() # MinMaxScaler = (x - min) / (max - min)\n",
    "min_max_scalerd = min_max_scaler.fit_transform(df) # find min and max and transform the data\n",
    "\n",
    "print(\"\\nMin-Max Scaled Data:\")\n",
    "print(pd.DataFrame(min_max_scalerd, columns=['StudyHours', 'Scores']))\n",
    "\n",
    "\n",
    "X = df[['StudyHours']]\n",
    "y = df[['Scores']]\n",
    "\n",
    "X_train, X_test, y_train, y_test = train_test_split(X, y, test_size=0.2, random_state=42)\n",
    "### X_train, X_test, y_train, y_test are the splitted data for training and testing \n",
    "# test_size = 0.2 means 20% of data is for testing and 80% for training\n",
    "# random_state = 42 is used to get the same random split every time you run the code\n",
    "\n",
    "print(\"\\nTraining Data:\")\n",
    "print(X_train)  \n",
    "\n",
    "print(\"Test Data:\")\n",
    "print(X_test)\n",
    "\n",
    "print(\"\\nTraining Data:\")\n",
    "print(y_train)  \n",
    "\n",
    "print(\"Test Data:\")\n",
    "print(y_test)\n"
   ]
  }
 ],
 "metadata": {
  "kernelspec": {
   "display_name": "Python 3",
   "language": "python",
   "name": "python3"
  },
  "language_info": {
   "codemirror_mode": {
    "name": "ipython",
    "version": 3
   },
   "file_extension": ".py",
   "mimetype": "text/x-python",
   "name": "python",
   "nbconvert_exporter": "python",
   "pygments_lexer": "ipython3",
   "version": "3.13.7"
  }
 },
 "nbformat": 4,
 "nbformat_minor": 5
}
